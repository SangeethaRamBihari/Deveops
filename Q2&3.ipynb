{
  "nbformat": 4,
  "nbformat_minor": 0,
  "metadata": {
    "colab": {
      "provenance": []
    },
    "kernelspec": {
      "name": "python3",
      "display_name": "Python 3"
    },
    "language_info": {
      "name": "python"
    }
  },
  "cells": [
    {
      "source": [
        "!pip install pandas scikit-learn\n",
        "import pandas as pd\n",
        "from sklearn.model_selection import train_test_split\n",
        "from sklearn.linear_model import LogisticRegression\n",
        "from sklearn.metrics import accuracy_score\n",
        "from sklearn.preprocessing import OneHotEncoder  # Import OneHotEncoder\n",
        "\n",
        "# Load your data\n",
        "data = pd.read_csv(r\"/content/ad_10000records.csv\")\n",
        "\n",
        "# Handle missing values in numerical columns\n",
        "numeric_data = data.select_dtypes(include=['number'])\n",
        "data[numeric_data.columns] = data[numeric_data.columns].fillna(numeric_data.mean())\n",
        "\n",
        "# Separate features (X) and target (y)\n",
        "X = data.drop(columns=[\"Daily Time Spent on Site\", \"Age\", \"Area Income\", \"Daily Internet Usage\", \"Clicked on Ad\"])  # Exclude target from features\n",
        "y = data[\"Age\"]\n",
        "\n",
        "# Identify categorical features for one-hot encoding\n",
        "categorical_features = X.select_dtypes(include=['object']).columns.tolist()\n",
        "\n",
        "# Create a OneHotEncoder instance\n",
        "encoder = OneHotEncoder(sparse_output=False, handle_unknown='ignore')  # sparse=False for dense output\n",
        "\n",
        "# Fit and transform the categorical features\n",
        "encoded_features = encoder.fit_transform(X[categorical_features])\n",
        "\n",
        "# Create a DataFrame from the encoded features\n",
        "encoded_df = pd.DataFrame(encoded_features, columns=encoder.get_feature_names_out(categorical_features))\n",
        "\n",
        "# Drop original categorical columns and concatenate encoded features\n",
        "X = X.drop(columns=categorical_features)\n",
        "X = pd.concat([X, encoded_df], axis=1)\n",
        "\n",
        "# Split data into training and testing sets\n",
        "X_train, X_test, y_train, y_test = train_test_split(X, y, test_size=0.2, random_state=42)\n",
        "\n",
        "# Create and train the model\n",
        "model = LogisticRegression()\n",
        "model.fit(X_train, y_train)\n",
        "\n",
        "# Make predictions and evaluate accuracy\n",
        "y_pred = model.predict(X_test)\n",
        "print(\"Accuracy:\", accuracy_score(y_test, y_pred))"
      ],
      "cell_type": "code",
      "metadata": {
        "colab": {
          "base_uri": "https://localhost:8080/"
        },
        "id": "e2JaRZeeYnoy",
        "outputId": "affa904c-336f-48ec-8766-a7b2db370387"
      },
      "execution_count": null,
      "outputs": [
        {
          "output_type": "stream",
          "name": "stdout",
          "text": [
            "Requirement already satisfied: pandas in /usr/local/lib/python3.10/dist-packages (2.2.2)\n",
            "Requirement already satisfied: scikit-learn in /usr/local/lib/python3.10/dist-packages (1.6.0)\n",
            "Requirement already satisfied: numpy>=1.22.4 in /usr/local/lib/python3.10/dist-packages (from pandas) (1.26.4)\n",
            "Requirement already satisfied: python-dateutil>=2.8.2 in /usr/local/lib/python3.10/dist-packages (from pandas) (2.8.2)\n",
            "Requirement already satisfied: pytz>=2020.1 in /usr/local/lib/python3.10/dist-packages (from pandas) (2024.2)\n",
            "Requirement already satisfied: tzdata>=2022.7 in /usr/local/lib/python3.10/dist-packages (from pandas) (2024.2)\n",
            "Requirement already satisfied: scipy>=1.6.0 in /usr/local/lib/python3.10/dist-packages (from scikit-learn) (1.13.1)\n",
            "Requirement already satisfied: joblib>=1.2.0 in /usr/local/lib/python3.10/dist-packages (from scikit-learn) (1.4.2)\n",
            "Requirement already satisfied: threadpoolctl>=3.1.0 in /usr/local/lib/python3.10/dist-packages (from scikit-learn) (3.5.0)\n",
            "Requirement already satisfied: six>=1.5 in /usr/local/lib/python3.10/dist-packages (from python-dateutil>=2.8.2->pandas) (1.17.0)\n",
            "Accuracy: 0.7635\n"
          ]
        }
      ]
    },
    {
      "cell_type": "code",
      "source": [
        "!git init"
      ],
      "metadata": {
        "colab": {
          "base_uri": "https://localhost:8080/"
        },
        "id": "CSFx7WKIaZFj",
        "outputId": "274b41f3-a084-4124-c1fb-5f8b918da932"
      },
      "execution_count": null,
      "outputs": [
        {
          "output_type": "stream",
          "name": "stdout",
          "text": [
            "Reinitialized existing Git repository in /content/.git/\n"
          ]
        }
      ]
    },
    {
      "cell_type": "code",
      "source": [],
      "metadata": {
        "id": "6bTrEfNJV5cO"
      },
      "execution_count": null,
      "outputs": []
    },
    {
      "cell_type": "code",
      "source": [
        "!git add ."
      ],
      "metadata": {
        "id": "HJyuBOGAajlN"
      },
      "execution_count": null,
      "outputs": []
    },
    {
      "cell_type": "code",
      "source": [
        "!git commit -m \"Initial commit:Add preprocessing and training script\""
      ],
      "metadata": {
        "colab": {
          "base_uri": "https://localhost:8080/"
        },
        "id": "qGbGotsAaw9h",
        "outputId": "fcb6c593-e9b5-4320-93fe-f83dc7ee5166"
      },
      "execution_count": null,
      "outputs": [
        {
          "output_type": "stream",
          "name": "stdout",
          "text": [
            "[main 57be0d3] Initial commit:Add preprocessing and training script\n",
            " 22 files changed, 61024 insertions(+)\n",
            " create mode 100644 .config/.last_opt_in_prompt.yaml\n",
            " create mode 100644 .config/.last_survey_prompt.yaml\n",
            " create mode 100644 .config/.last_update_check.json\n",
            " create mode 100644 .config/active_config\n",
            " create mode 100644 .config/config_sentinel\n",
            " create mode 100644 .config/configurations/config_default\n",
            " create mode 100644 .config/default_configs.db\n",
            " create mode 100644 .config/gce\n",
            " create mode 100644 .config/hidden_gcloud_config_universe_descriptor_data_cache_configs.db\n",
            " create mode 100644 .config/logs/2025.01.03/14.21.49.438287.log\n",
            " create mode 100644 .config/logs/2025.01.03/14.22.12.029975.log\n",
            " create mode 100644 .config/logs/2025.01.03/14.22.23.917173.log\n",
            " create mode 100644 .config/logs/2025.01.03/14.22.25.118159.log\n",
            " create mode 100644 .config/logs/2025.01.03/14.22.38.760331.log\n",
            " create mode 100644 .config/logs/2025.01.03/14.22.39.386490.log\n",
            " create mode 100644 ad_10000records.csv\n",
            " create mode 100755 sample_data/README.md\n",
            " create mode 100755 sample_data/anscombe.json\n",
            " create mode 100644 sample_data/california_housing_test.csv\n",
            " create mode 100644 sample_data/california_housing_train.csv\n",
            " create mode 100644 sample_data/mnist_test.csv\n",
            " create mode 100644 sample_data/mnist_train_small.csv\n"
          ]
        }
      ]
    },
    {
      "cell_type": "code",
      "source": [
        " !git config --global user.email \"sangeetharambihari@gmail.com\"\n",
        " !git config --global user.name \"SangeethaRamBihari\"\n"
      ],
      "metadata": {
        "id": "wB62YyrTYR3W"
      },
      "execution_count": null,
      "outputs": []
    },
    {
      "cell_type": "code",
      "source": [
        "!git remote add origin git@github.com:SangeethaRamBihari/Deveops.git"
      ],
      "metadata": {
        "id": "dgoEr2Yzbstk",
        "colab": {
          "base_uri": "https://localhost:8080/"
        },
        "outputId": "28158566-c242-48a4-8c61-ff21a4c97f3b"
      },
      "execution_count": null,
      "outputs": [
        {
          "output_type": "stream",
          "name": "stdout",
          "text": [
            "error: remote origin already exists.\n"
          ]
        }
      ]
    },
    {
      "cell_type": "code",
      "source": [
        "!git branch -M main"
      ],
      "metadata": {
        "id": "JMCr5DFAaY92"
      },
      "execution_count": null,
      "outputs": []
    },
    {
      "cell_type": "code",
      "source": [],
      "metadata": {
        "colab": {
          "base_uri": "https://localhost:8080/"
        },
        "id": "ruJkR8CHaaB1",
        "outputId": "6b929514-819f-40d8-869b-4556b6bb9c76"
      },
      "execution_count": null,
      "outputs": [
        {
          "output_type": "stream",
          "name": "stdout",
          "text": [
            "fatal: could not read Password for 'https://YOUR_TOKEN@github.com': No such device or address\n"
          ]
        }
      ]
    },
    {
      "source": [
        "!git remote set-url origin git@github.com:SangeethaRamBihari/Deveops.git"
      ],
      "cell_type": "code",
      "metadata": {
        "id": "ohT7cFm9bA9e"
      },
      "execution_count": null,
      "outputs": []
    },
    {
      "cell_type": "code",
      "source": [
        "!git push -u origin main"
      ],
      "metadata": {
        "colab": {
          "base_uri": "https://localhost:8080/"
        },
        "id": "pyDm7bOtbPiW",
        "outputId": "37f93003-e907-4354-f2f5-97f26a0d25cc"
      },
      "execution_count": null,
      "outputs": [
        {
          "output_type": "stream",
          "name": "stdout",
          "text": [
            "Host key verification failed.\r\n",
            "fatal: Could not read from remote repository.\n",
            "\n",
            "Please make sure you have the correct access rights\n",
            "and the repository exists.\n"
          ]
        }
      ]
    },
    {
      "source": [
        "!ssh-keyscan github.com >> ~/.ssh/known_hosts"
      ],
      "cell_type": "code",
      "metadata": {
        "colab": {
          "base_uri": "https://localhost:8080/"
        },
        "id": "0YhxV6aMcX_3",
        "outputId": "97cffec7-41f6-4c9f-b6e6-a3876998418c"
      },
      "execution_count": null,
      "outputs": [
        {
          "output_type": "stream",
          "name": "stdout",
          "text": [
            "/bin/bash: line 1: /root/.ssh/known_hosts: No such file or directory\n"
          ]
        }
      ]
    },
    {
      "source": [
        "!git config --global user.email \"sangeetharambihari@gmail.com\"\n",
        "!git config --global user.name \"SangeethaRamBihari\"\n",
        "!git config --global --add safe.directory /content\n",
        "!git clone git@github.com:SangeethaRamBihari/Deveops.git"
      ],
      "cell_type": "code",
      "metadata": {
        "colab": {
          "base_uri": "https://localhost:8080/"
        },
        "id": "VuWzy10ncfYu",
        "outputId": "887f589e-fdc0-4e2f-ef0c-e6f9aed7a706"
      },
      "execution_count": null,
      "outputs": [
        {
          "output_type": "stream",
          "name": "stdout",
          "text": [
            "Cloning into 'Deveops'...\n",
            "Host key verification failed.\n",
            "fatal: Could not read from remote repository.\n",
            "\n",
            "Please make sure you have the correct access rights\n",
            "and the repository exists.\n"
          ]
        }
      ]
    },
    {
      "cell_type": "code",
      "source": [
        "!ssh-keygen -t rsa -b 4096 -C \"sangeetharambihari@gmail.com\""
      ],
      "metadata": {
        "colab": {
          "base_uri": "https://localhost:8080/"
        },
        "id": "GtKEMfVxe6El",
        "outputId": "f45a3931-8706-4d00-b94b-1fdcdb06c3e0"
      },
      "execution_count": null,
      "outputs": [
        {
          "output_type": "stream",
          "name": "stdout",
          "text": [
            "Generating public/private rsa key pair.\n",
            "Enter file in which to save the key (/root/.ssh/id_rsa): Deveops\n",
            "Enter passphrase (empty for no passphrase): \n",
            "Enter same passphrase again: \n",
            "Your identification has been saved in Deveops\n",
            "Your public key has been saved in Deveops.pub\n",
            "The key fingerprint is:\n",
            "SHA256:Hs3Its6J1nuszTUMkt646O+o99wIiZd1v739iWxVIh8 sangeetharambihari@gmail.com\n",
            "The key's randomart image is:\n",
            "+---[RSA 4096]----+\n",
            "|                 |\n",
            "|                 |\n",
            "|                 |\n",
            "|       . =  . E .|\n",
            "|        S =  o o.|\n",
            "|     . B B +  .. |\n",
            "|    . =.=.. = .  |\n",
            "|     .oO.Bo..=...|\n",
            "|    .==+&++ oooo+|\n",
            "+----[SHA256]-----+\n"
          ]
        }
      ]
    },
    {
      "cell_type": "code",
      "source": [
        "!eval \"$(ssh-agent -s)\"\n",
        "!ssh-add ~/.ssh/id_rsa"
      ],
      "metadata": {
        "colab": {
          "base_uri": "https://localhost:8080/"
        },
        "id": "IMMnNfT7fX_Z",
        "outputId": "7196748f-ade6-48aa-f9ad-21d3f976f064"
      },
      "execution_count": null,
      "outputs": [
        {
          "output_type": "stream",
          "name": "stdout",
          "text": [
            "Agent pid 20965\n",
            "Could not open a connection to your authentication agent.\n"
          ]
        }
      ]
    },
    {
      "cell_type": "code",
      "source": [
        "!eval \"$(ssh-agent -s)\"\n"
      ],
      "metadata": {
        "colab": {
          "base_uri": "https://localhost:8080/"
        },
        "id": "JlplO5lSfsMd",
        "outputId": "962f4634-7dd7-4aee-b80b-522afcf8a04b"
      },
      "execution_count": null,
      "outputs": [
        {
          "output_type": "stream",
          "name": "stdout",
          "text": [
            "Agent pid 21636\n"
          ]
        }
      ]
    },
    {
      "cell_type": "code",
      "source": [
        "!ssh-add ~/.ssh/id_21636"
      ],
      "metadata": {
        "colab": {
          "base_uri": "https://localhost:8080/"
        },
        "id": "bSGsXUQ_fwk9",
        "outputId": "81018e7c-473b-4f71-c280-eba9362e1581"
      },
      "execution_count": null,
      "outputs": [
        {
          "output_type": "stream",
          "name": "stdout",
          "text": [
            "Could not open a connection to your authentication agent.\n"
          ]
        }
      ]
    },
    {
      "source": [
        "!ssh-add <(echo \"YOUR_PRIVATE_SSH_KEY\")"
      ],
      "cell_type": "code",
      "metadata": {
        "id": "w_tGsl26gRoo"
      },
      "execution_count": null,
      "outputs": []
    }
  ]
}